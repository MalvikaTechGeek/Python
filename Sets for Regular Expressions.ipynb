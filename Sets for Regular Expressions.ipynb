{
 "cells": [
  {
   "cell_type": "markdown",
   "id": "5184dbf4",
   "metadata": {},
   "source": [
    "# Sets for Regular Expressions\n",
    "## A set is a set of characters inside a pair of square brackets [] with a special meaning"
   ]
  },
  {
   "cell_type": "code",
   "execution_count": 1,
   "id": "af59ba7f",
   "metadata": {},
   "outputs": [],
   "source": [
    "import re"
   ]
  },
  {
   "cell_type": "code",
   "execution_count": 2,
   "id": "f7620f73",
   "metadata": {},
   "outputs": [
    {
     "name": "stdout",
     "output_type": "stream",
     "text": [
      "['a', 'n']\n"
     ]
    }
   ],
   "source": [
    "s=\"I love watching movies\"\n",
    "x = re.findall('[arn]',s)\n",
    "print(x)"
   ]
  },
  {
   "cell_type": "code",
   "execution_count": 3,
   "id": "a73d4895",
   "metadata": {},
   "outputs": [
    {
     "name": "stdout",
     "output_type": "stream",
     "text": [
      "['l', 'e', 'a', 'c', 'h', 'i', 'n', 'g', 'm', 'i', 'e']\n"
     ]
    }
   ],
   "source": [
    "s=\"I love watching movies\"\n",
    "x = re.findall('[a-n]',s)\n",
    "print(x)"
   ]
  },
  {
   "cell_type": "code",
   "execution_count": 4,
   "id": "a5974bf4",
   "metadata": {},
   "outputs": [
    {
     "name": "stdout",
     "output_type": "stream",
     "text": [
      "['I', ' ', 'l', 'o', 'v', 'e', ' ', 'w', 't', 'c', 'h', 'i', 'g', ' ', 'm', 'o', 'v', 'i', 'e', 's']\n"
     ]
    }
   ],
   "source": [
    "s=\"I love watching movies\"\n",
    "x = re.findall('[^arn]',s)\n",
    "print(x)"
   ]
  },
  {
   "cell_type": "code",
   "execution_count": 5,
   "id": "11847b01",
   "metadata": {},
   "outputs": [
    {
     "name": "stdout",
     "output_type": "stream",
     "text": [
      "['8']\n"
     ]
    }
   ],
   "source": [
    "s=\"I love watching movies after 8pm\"\n",
    "x = re.findall('[0-9]',s)\n",
    "print(x)"
   ]
  },
  {
   "cell_type": "code",
   "execution_count": 6,
   "id": "acaecce8",
   "metadata": {},
   "outputs": [
    {
     "name": "stdout",
     "output_type": "stream",
     "text": [
      "['I', 'l', 'o', 'v', 'e', 'w', 'a', 't', 'c', 'h', 'i', 'n', 'g', 'm', 'o', 'v', 'i', 'e', 's']\n"
     ]
    }
   ],
   "source": [
    "s=\"I love watching movies\"\n",
    "x = re.findall('[a-zA-Z]',s)\n",
    "print(x)"
   ]
  },
  {
   "cell_type": "code",
   "execution_count": 7,
   "id": "85e29cec",
   "metadata": {},
   "outputs": [
    {
     "name": "stdout",
     "output_type": "stream",
     "text": [
      "[]\n"
     ]
    }
   ],
   "source": [
    "s=\"I love watching movies\"\n",
    "x = re.findall('[+]',s)\n",
    "print(x)"
   ]
  },
  {
   "cell_type": "code",
   "execution_count": null,
   "id": "2a7ccc53",
   "metadata": {},
   "outputs": [],
   "source": []
  }
 ],
 "metadata": {
  "kernelspec": {
   "display_name": "Python 3",
   "language": "python",
   "name": "python3"
  },
  "language_info": {
   "codemirror_mode": {
    "name": "ipython",
    "version": 3
   },
   "file_extension": ".py",
   "mimetype": "text/x-python",
   "name": "python",
   "nbconvert_exporter": "python",
   "pygments_lexer": "ipython3",
   "version": "3.6.8"
  }
 },
 "nbformat": 4,
 "nbformat_minor": 5
}
