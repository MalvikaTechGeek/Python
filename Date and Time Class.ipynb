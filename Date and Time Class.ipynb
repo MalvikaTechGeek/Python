{
 "cells": [
  {
   "cell_type": "markdown",
   "id": "b3707b16",
   "metadata": {},
   "source": [
    "# Date Class"
   ]
  },
  {
   "cell_type": "markdown",
   "id": "7ce03fc5",
   "metadata": {},
   "source": [
    "date class has three mandatory attributes year,month and day"
   ]
  },
  {
   "cell_type": "markdown",
   "id": "888633b3",
   "metadata": {},
   "source": [
    "The arguements of the three attributes must be in the following range:\n",
    "\n",
    "1. MINYEAR<= year<= MAXYEAR\n",
    "2. 1<=month<= 12\n",
    "3. 1<=day <= number of days in the given month  "
   ]
  },
  {
   "cell_type": "code",
   "execution_count": 2,
   "id": "28d788f5",
   "metadata": {},
   "outputs": [
    {
     "name": "stdout",
     "output_type": "stream",
     "text": [
      "Date is:  1998-07-19\n"
     ]
    }
   ],
   "source": [
    "from datetime import date\n",
    "\n",
    "mydate = date(year=1998, month=7, day=19)\n",
    "print(\"Date is: \",mydate)"
   ]
  },
  {
   "cell_type": "code",
   "execution_count": 3,
   "id": "df11bfac",
   "metadata": {},
   "outputs": [
    {
     "data": {
      "text/plain": [
       "datetime.date(2024, 1, 13)"
      ]
     },
     "execution_count": 3,
     "metadata": {},
     "output_type": "execute_result"
    }
   ],
   "source": [
    "date.today()"
   ]
  },
  {
   "cell_type": "code",
   "execution_count": 4,
   "id": "f79fb85f",
   "metadata": {},
   "outputs": [
    {
     "data": {
      "text/plain": [
       "1"
      ]
     },
     "execution_count": 4,
     "metadata": {},
     "output_type": "execute_result"
    }
   ],
   "source": [
    "date.today().month"
   ]
  },
  {
   "cell_type": "markdown",
   "id": "c34c4cec",
   "metadata": {},
   "source": [
    "# Time Class"
   ]
  },
  {
   "cell_type": "markdown",
   "id": "3ff921a2",
   "metadata": {},
   "source": [
    "The time class has 4 arguements: hour, minute, second and microsecond. All the arguments are optional."
   ]
  },
  {
   "cell_type": "code",
   "execution_count": 6,
   "id": "f0e979c9",
   "metadata": {},
   "outputs": [
    {
     "data": {
      "text/plain": [
       "datetime.time(12, 30, 45)"
      ]
     },
     "execution_count": 6,
     "metadata": {},
     "output_type": "execute_result"
    }
   ],
   "source": [
    "from datetime import time\n",
    "\n",
    "mytime = time(hour=12, minute=30, second=45)\n",
    "mytime"
   ]
  },
  {
   "cell_type": "code",
   "execution_count": 7,
   "id": "9996af7e",
   "metadata": {},
   "outputs": [
    {
     "data": {
      "text/plain": [
       "datetime.time(0, 15)"
      ]
     },
     "execution_count": 7,
     "metadata": {},
     "output_type": "execute_result"
    }
   ],
   "source": [
    "mytime = time(minute=15)\n",
    "mytime"
   ]
  },
  {
   "cell_type": "code",
   "execution_count": null,
   "id": "6de047fc",
   "metadata": {},
   "outputs": [],
   "source": []
  }
 ],
 "metadata": {
  "kernelspec": {
   "display_name": "Python 3",
   "language": "python",
   "name": "python3"
  },
  "language_info": {
   "codemirror_mode": {
    "name": "ipython",
    "version": 3
   },
   "file_extension": ".py",
   "mimetype": "text/x-python",
   "name": "python",
   "nbconvert_exporter": "python",
   "pygments_lexer": "ipython3",
   "version": "3.6.8"
  }
 },
 "nbformat": 4,
 "nbformat_minor": 5
}
