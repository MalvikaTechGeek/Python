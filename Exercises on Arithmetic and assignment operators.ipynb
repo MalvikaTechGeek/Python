{
 "cells": [
  {
   "cell_type": "code",
   "execution_count": 3,
   "id": "9544df83",
   "metadata": {},
   "outputs": [
    {
     "name": "stdout",
     "output_type": "stream",
     "text": [
      "Total Distance: 357 miles\n",
      "Total Time: 5.10 hours\n"
     ]
    }
   ],
   "source": [
    "def calculate_time_and_distance(speed, distances):\n",
    "    total_distance = sum(distances)\n",
    "    total_time = total_distance / speed\n",
    "    return total_distance, total_time\n",
    "\n",
    "# Given distances in miles\n",
    "houston_to_austin_distance = 162\n",
    "austin_to_dallas_distance = 195\n",
    "\n",
    "# Speed in miles per hour\n",
    "speed = 70\n",
    "\n",
    "distances = [houston_to_austin_distance, austin_to_dallas_distance]\n",
    "\n",
    "total_distance, total_time = calculate_time_and_distance(speed, distances)\n",
    "\n",
    "print(f\"Total Distance: {total_distance} miles\")\n",
    "print(f\"Total Time: {total_time:.2f} hours\")\n"
   ]
  },
  {
   "cell_type": "code",
   "execution_count": 4,
   "id": "dd501193",
   "metadata": {},
   "outputs": [
    {
     "name": "stdout",
     "output_type": "stream",
     "text": [
      "The area of the triangle is: 14.70\n"
     ]
    }
   ],
   "source": [
    "import math\n",
    "\n",
    "def area_of_triangle(a, b, c):\n",
    "    s = (a + b + c) / 2\n",
    "    area = math.sqrt(s * (s - a) * (s - b) * (s - c))\n",
    "    return area\n",
    "\n",
    "# Example usage:\n",
    "side_a = 5\n",
    "side_b = 6\n",
    "side_c = 7\n",
    "\n",
    "triangle_area = area_of_triangle(side_a, side_b, side_c)\n",
    "print(f\"The area of the triangle is: {triangle_area:.2f}\")"
   ]
  },
  {
   "cell_type": "code",
   "execution_count": 5,
   "id": "514a3783",
   "metadata": {},
   "outputs": [
    {
     "name": "stdout",
     "output_type": "stream",
     "text": [
      "Enter an integer: 6\n",
      "Great\n"
     ]
    }
   ],
   "source": [
    "def is_present_in_list(num, lst):\n",
    "    return num in lst\n",
    "\n",
    "def is_odd(num):\n",
    "    return num % 2 != 0\n",
    "\n",
    "def get_integer_from_user():\n",
    "    while True:\n",
    "        try:\n",
    "            num = int(input(\"Enter an integer: \"))\n",
    "            return num\n",
    "        except ValueError:\n",
    "            print(\"Invalid input. Please enter an integer.\")\n",
    "\n",
    "def main():\n",
    "    list_L = [2, 4, 6, 8, 10]\n",
    "    num = get_integer_from_user()\n",
    "\n",
    "    if num > 1000:\n",
    "        print(\"Invalid\")\n",
    "\n",
    "    elif is_odd(num) and not is_present_in_list(num, list_L):\n",
    "        print(\"Great\")\n",
    "\n",
    "    elif is_odd(num) and is_present_in_list(num, list_L):\n",
    "        print(\"Not Great\")\n",
    "\n",
    "    elif not is_odd(num) and is_present_in_list(num, list_L):\n",
    "        print(\"Great\")\n",
    "\n",
    "    elif not is_odd(num) and not is_present_in_list(num, list_L):\n",
    "        print(\"Not Great\")\n",
    "\n",
    "if __name__ == \"__main__\":\n",
    "    main()\n"
   ]
  },
  {
   "cell_type": "code",
   "execution_count": null,
   "id": "768e2162",
   "metadata": {},
   "outputs": [],
   "source": []
  }
 ],
 "metadata": {
  "kernelspec": {
   "display_name": "Python 3",
   "language": "python",
   "name": "python3"
  },
  "language_info": {
   "codemirror_mode": {
    "name": "ipython",
    "version": 3
   },
   "file_extension": ".py",
   "mimetype": "text/x-python",
   "name": "python",
   "nbconvert_exporter": "python",
   "pygments_lexer": "ipython3",
   "version": "3.6.8"
  }
 },
 "nbformat": 4,
 "nbformat_minor": 5
}
