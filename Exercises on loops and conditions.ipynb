{
 "cells": [
  {
   "cell_type": "code",
   "execution_count": 1,
   "id": "977a76de",
   "metadata": {},
   "outputs": [
    {
     "name": "stdout",
     "output_type": "stream",
     "text": [
      "Enter a string: 10\n",
      "Number of letters: 0\n",
      "Number of digits: 2\n"
     ]
    }
   ],
   "source": [
    "def count_letters_digits(input_string):\n",
    "    num_letters = 0\n",
    "    num_digits = 0\n",
    "\n",
    "    for char in input_string:\n",
    "        if char.isalpha():\n",
    "            num_letters += 1\n",
    "        elif char.isdigit():\n",
    "            num_digits += 1\n",
    "\n",
    "    return num_letters, num_digits\n",
    "\n",
    "def main():\n",
    "    input_string = input(\"Enter a string: \")\n",
    "    letters, digits = count_letters_digits(input_string)\n",
    "\n",
    "    print(f\"Number of letters: {letters}\")\n",
    "    print(f\"Number of digits: {digits}\")\n",
    "\n",
    "if __name__ == \"__main__\":\n",
    "    main()"
   ]
  },
  {
   "cell_type": "code",
   "execution_count": 2,
   "id": "a9b7cf19",
   "metadata": {},
   "outputs": [
    {
     "name": "stdout",
     "output_type": "stream",
     "text": [
      "Enter a string (A to Z): ABCDEFGHIJK\n",
      "Original string: ABCDEFGHIJK\n",
      "String after skipping 'Q': ABCDEFGHIJK\n",
      "Character count before skipping 'Q': 11\n",
      "Character count after skipping 'Q': 11\n",
      "Difference in character count: 0\n"
     ]
    }
   ],
   "source": [
    "def skip_and_count(input_string, skip_char):\n",
    "    count_before = len(input_string)\n",
    "    new_string = \"\"\n",
    "\n",
    "    for char in input_string:\n",
    "        if char == skip_char:\n",
    "            break\n",
    "        new_string += char\n",
    "\n",
    "    count_after = len(new_string)\n",
    "    return count_before, count_after, new_string\n",
    "\n",
    "def main():\n",
    "    input_string = input(\"Enter a string (A to Z): \")\n",
    "    skip_char = 'Q'\n",
    "\n",
    "    count_before, count_after, new_string = skip_and_count(input_string, skip_char)\n",
    "\n",
    "    print(f\"Original string: {input_string}\")\n",
    "    print(f\"String after skipping '{skip_char}': {new_string}\")\n",
    "    print(f\"Character count before skipping '{skip_char}': {count_before}\")\n",
    "    print(f\"Character count after skipping '{skip_char}': {count_after}\")\n",
    "    print(f\"Difference in character count: {count_before - count_after}\")\n",
    "\n",
    "if __name__ == \"__main__\":\n",
    "    main()"
   ]
  },
  {
   "cell_type": "code",
   "execution_count": 3,
   "id": "53a51450",
   "metadata": {},
   "outputs": [
    {
     "name": "stdout",
     "output_type": "stream",
     "text": [
      "Enter an integer: 370\n",
      "370 is an Armstrong number.\n"
     ]
    }
   ],
   "source": [
    "def is_armstrong_number(number):\n",
    "    num_str = str(number)\n",
    "    num_digits = len(num_str)\n",
    "    sum_of_cubes = sum(int(digit) ** num_digits for digit in num_str)\n",
    "    return number == sum_of_cubes\n",
    "\n",
    "def main():\n",
    "    try:\n",
    "        number = int(input(\"Enter an integer: \"))\n",
    "        if is_armstrong_number(number):\n",
    "            print(f\"{number} is an Armstrong number.\")\n",
    "        else:\n",
    "            print(f\"{number} is not an Armstrong number.\")\n",
    "    except ValueError:\n",
    "        print(\"Invalid input. Please enter a valid integer.\")\n",
    "\n",
    "if __name__ == \"__main__\":\n",
    "    main()"
   ]
  }
 ],
 "metadata": {
  "kernelspec": {
   "display_name": "Python 3",
   "language": "python",
   "name": "python3"
  },
  "language_info": {
   "codemirror_mode": {
    "name": "ipython",
    "version": 3
   },
   "file_extension": ".py",
   "mimetype": "text/x-python",
   "name": "python",
   "nbconvert_exporter": "python",
   "pygments_lexer": "ipython3",
   "version": "3.6.8"
  }
 },
 "nbformat": 4,
 "nbformat_minor": 5
}
