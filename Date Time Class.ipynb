{
 "cells": [
  {
   "cell_type": "markdown",
   "id": "95f740eb",
   "metadata": {},
   "source": [
    "# Datetime Class"
   ]
  },
  {
   "cell_type": "markdown",
   "id": "cf40aa6d",
   "metadata": {},
   "source": [
    "Datetime class contains the information on both date and time."
   ]
  },
  {
   "cell_type": "markdown",
   "id": "b89474b1",
   "metadata": {},
   "source": [
    "The year, month and day arguements are mandatory and other arguements are optional."
   ]
  },
  {
   "cell_type": "code",
   "execution_count": 1,
   "id": "e349b521",
   "metadata": {},
   "outputs": [
    {
     "name": "stdout",
     "output_type": "stream",
     "text": [
      "1993-05-10 00:00:00\n"
     ]
    }
   ],
   "source": [
    "from datetime import datetime\n",
    "\n",
    "a = datetime(year=1993, month=5, day=10)\n",
    "print(a)"
   ]
  },
  {
   "cell_type": "code",
   "execution_count": 2,
   "id": "95a8dc73",
   "metadata": {},
   "outputs": [
    {
     "name": "stdout",
     "output_type": "stream",
     "text": [
      "1993-05-10 12:13:43.043213\n"
     ]
    }
   ],
   "source": [
    "b = datetime(year=1993, month=5, day=10, hour=12, minute=13, second=43, microsecond=43213)\n",
    "print (b)"
   ]
  },
  {
   "cell_type": "code",
   "execution_count": 3,
   "id": "eccf91c0",
   "metadata": {},
   "outputs": [
    {
     "data": {
      "text/plain": [
       "13"
      ]
     },
     "execution_count": 3,
     "metadata": {},
     "output_type": "execute_result"
    }
   ],
   "source": [
    "b.minute"
   ]
  },
  {
   "cell_type": "code",
   "execution_count": 4,
   "id": "cc794c27",
   "metadata": {},
   "outputs": [
    {
     "data": {
      "text/plain": [
       "datetime.datetime(2024, 1, 16, 22, 25, 38, 434261)"
      ]
     },
     "execution_count": 4,
     "metadata": {},
     "output_type": "execute_result"
    }
   ],
   "source": [
    "today = datetime.now()\n",
    "today"
   ]
  },
  {
   "cell_type": "code",
   "execution_count": null,
   "id": "47b147ad",
   "metadata": {},
   "outputs": [],
   "source": []
  }
 ],
 "metadata": {
  "kernelspec": {
   "display_name": "Python 3",
   "language": "python",
   "name": "python3"
  },
  "language_info": {
   "codemirror_mode": {
    "name": "ipython",
    "version": 3
   },
   "file_extension": ".py",
   "mimetype": "text/x-python",
   "name": "python",
   "nbconvert_exporter": "python",
   "pygments_lexer": "ipython3",
   "version": "3.6.8"
  }
 },
 "nbformat": 4,
 "nbformat_minor": 5
}
