{
 "cells": [
  {
   "cell_type": "markdown",
   "id": "fb8390d0",
   "metadata": {},
   "source": [
    "# Built in functions for Regular Expressions"
   ]
  },
  {
   "cell_type": "markdown",
   "id": "12a0e882",
   "metadata": {},
   "source": [
    "We have four built-in functions for Regular Expressions i.e.,\n",
    "\n",
    "1.findall() function\n",
    "2.search() function\n",
    "3.split() function\n",
    "4.sub() function\n"
   ]
  },
  {
   "cell_type": "code",
   "execution_count": 1,
   "id": "a3d50c12",
   "metadata": {},
   "outputs": [],
   "source": [
    "import re"
   ]
  },
  {
   "cell_type": "code",
   "execution_count": 2,
   "id": "4ce860e9",
   "metadata": {},
   "outputs": [
    {
     "name": "stdout",
     "output_type": "stream",
     "text": [
      "['nd']\n"
     ]
    }
   ],
   "source": [
    "#findall() function\n",
    "st = \"India is my country\"\n",
    "x=re.findall('nd',st)\n",
    "print(x)"
   ]
  },
  {
   "cell_type": "code",
   "execution_count": 3,
   "id": "5875e56e",
   "metadata": {},
   "outputs": [
    {
     "name": "stdout",
     "output_type": "stream",
     "text": [
      "None\n"
     ]
    }
   ],
   "source": [
    "#search() function\n",
    "st = \"India is my country\"\n",
    "x = re.search('Delhi', st)\n",
    "print(x)"
   ]
  },
  {
   "cell_type": "code",
   "execution_count": 4,
   "id": "a03b6a67",
   "metadata": {},
   "outputs": [
    {
     "name": "stdout",
     "output_type": "stream",
     "text": [
      "['I', 'love', 'watching', 'movies']\n"
     ]
    }
   ],
   "source": [
    "#split() function\n",
    "s =\"I love watching movies\"\n",
    "x = re.split('\\s',s)\n",
    "print(x)"
   ]
  },
  {
   "cell_type": "code",
   "execution_count": 5,
   "id": "5b671e39",
   "metadata": {},
   "outputs": [
    {
     "name": "stdout",
     "output_type": "stream",
     "text": [
      "I2love2watching2movies\n"
     ]
    }
   ],
   "source": [
    "#sub() function\n",
    "s = \"I love watching movies\"\n",
    "x = re.sub('\\s','2',s)\n",
    "print(x)"
   ]
  },
  {
   "cell_type": "code",
   "execution_count": null,
   "id": "bf2340b9",
   "metadata": {},
   "outputs": [],
   "source": []
  }
 ],
 "metadata": {
  "kernelspec": {
   "display_name": "Python 3",
   "language": "python",
   "name": "python3"
  },
  "language_info": {
   "codemirror_mode": {
    "name": "ipython",
    "version": 3
   },
   "file_extension": ".py",
   "mimetype": "text/x-python",
   "name": "python",
   "nbconvert_exporter": "python",
   "pygments_lexer": "ipython3",
   "version": "3.6.8"
  }
 },
 "nbformat": 4,
 "nbformat_minor": 5
}
