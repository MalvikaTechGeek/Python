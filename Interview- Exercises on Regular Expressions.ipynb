{
 "cells": [
  {
   "cell_type": "markdown",
   "id": "dc37c628",
   "metadata": {},
   "source": [
    "# Write a program to extract email id from the given string\n",
    "input string: Hello from abc456@gmail.com to pxyz123@yahoo.com about the meeting @6PM"
   ]
  },
  {
   "cell_type": "markdown",
   "id": "4d49b2f2",
   "metadata": {},
   "source": [
    "# Write a python program to validate the entered gmail id. gmail id is valid if it satisfies the following:\n",
    "should start with lowercase or numeric\n",
    "should have a '@' at the 9th position from the last \n",
    "should have a '.' at the 4th position from the last\n",
    "should have 3 lowercase letter after '.'"
   ]
  },
  {
   "cell_type": "markdown",
   "id": "2e5c0841",
   "metadata": {},
   "source": [
    "# Write a python program to validate the entered  password. Password is valid id it satisfies the following:\n",
    "password should have at least one lowercase, one uppercase, one numeric and one special character\n",
    "passwors should be in the length of 6 characters as minimum and 20 characters as maximum"
   ]
  },
  {
   "cell_type": "code",
   "execution_count": 7,
   "id": "1c496e18",
   "metadata": {},
   "outputs": [],
   "source": [
    "import re"
   ]
  },
  {
   "cell_type": "code",
   "execution_count": 9,
   "id": "b85bb51d",
   "metadata": {},
   "outputs": [
    {
     "ename": "SyntaxError",
     "evalue": "invalid syntax (<ipython-input-9-43951bea93f4>, line 3)",
     "output_type": "error",
     "traceback": [
      "\u001b[1;36m  File \u001b[1;32m\"<ipython-input-9-43951bea93f4>\"\u001b[1;36m, line \u001b[1;32m3\u001b[0m\n\u001b[1;33m    1st=re.findall('\\S+@\\S+', s)\u001b[0m\n\u001b[1;37m      ^\u001b[0m\n\u001b[1;31mSyntaxError\u001b[0m\u001b[1;31m:\u001b[0m invalid syntax\n"
     ]
    }
   ],
   "source": [
    "s = \"Hello from abc456@gmail.com to pxyz123@yahoo.com about the meeting @6PM\"\n",
    "\n",
    "1st = re.findall('\\S+@\\S+', s)\n",
    "print(1st)"
   ]
  },
  {
   "cell_type": "code",
   "execution_count": 10,
   "id": "a156bfdf",
   "metadata": {},
   "outputs": [
    {
     "name": "stdout",
     "output_type": "stream",
     "text": [
      "['abc456@gmail.com', 'pxyz123@yahoo.com']\n"
     ]
    }
   ],
   "source": [
    "import re\n",
    "\n",
    "s = \"Hello from abc456@gmail.com to pxyz123@yahoo.com about the meeting @6PM\"\n",
    "\n",
    "emails = re.findall('\\S+@\\S+', s)\n",
    "print(emails)"
   ]
  },
  {
   "cell_type": "code",
   "execution_count": 11,
   "id": "e1e980b1",
   "metadata": {},
   "outputs": [
    {
     "name": "stdout",
     "output_type": "stream",
     "text": [
      "Valid email\n"
     ]
    }
   ],
   "source": [
    "import re\n",
    "\n",
    "regex = '^[a-z0-9_]+@gmail.\\w{3}$'\n",
    "\n",
    "def check(email):\n",
    "    \n",
    "    if(re.search(regex,email)):\n",
    "        print(\"Valid email\")\n",
    "        \n",
    "    else:\n",
    "        print(\"Invalid email\")\n",
    "        \n",
    "email = \"xyz123_32@gmail.com\"\n",
    "\n",
    "check(email)"
   ]
  },
  {
   "cell_type": "code",
   "execution_count": 12,
   "id": "02506e64",
   "metadata": {},
   "outputs": [
    {
     "name": "stdout",
     "output_type": "stream",
     "text": [
      "Enter the password to validate: Jayesh@15\n",
      "Valid password\n"
     ]
    }
   ],
   "source": [
    "import re\n",
    "\n",
    "def validate_password(password):\n",
    "    # Check if password length is between 6 and 20 characters\n",
    "    if len(password) < 6 or len(password) > 20:\n",
    "        return False\n",
    "\n",
    "    # Check if password contains at least one lowercase, one uppercase, one numeric, and one special character\n",
    "    if not re.search(r'[a-z]', password):\n",
    "        return False\n",
    "    if not re.search(r'[A-Z]', password):\n",
    "        return False\n",
    "    if not re.search(r'[0-9]', password):\n",
    "        return False\n",
    "    if not re.search(r'[@_!#$%^&*()<>?/\\|}{~:]', password):\n",
    "        return False\n",
    "\n",
    "    return True\n",
    "\n",
    "# Test the function\n",
    "password = input(\"Enter the password to validate: \")\n",
    "if validate_password(password):\n",
    "    print(\"Valid password\")\n",
    "else:\n",
    "    print(\"Invalid password\")"
   ]
  },
  {
   "cell_type": "code",
   "execution_count": null,
   "id": "2dfaced4",
   "metadata": {},
   "outputs": [],
   "source": []
  }
 ],
 "metadata": {
  "kernelspec": {
   "display_name": "Python 3",
   "language": "python",
   "name": "python3"
  },
  "language_info": {
   "codemirror_mode": {
    "name": "ipython",
    "version": 3
   },
   "file_extension": ".py",
   "mimetype": "text/x-python",
   "name": "python",
   "nbconvert_exporter": "python",
   "pygments_lexer": "ipython3",
   "version": "3.6.8"
  }
 },
 "nbformat": 4,
 "nbformat_minor": 5
}
