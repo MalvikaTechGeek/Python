{
 "cells": [
  {
   "cell_type": "markdown",
   "id": "4d8dba8e",
   "metadata": {},
   "source": [
    "## String methods\n",
    "\n",
    "## String methods are in-built functions in python for manipulating strings."
   ]
  },
  {
   "cell_type": "markdown",
   "id": "d17e77ff",
   "metadata": {},
   "source": [
    "## 1.capitalize()- returns string after converting the first character to uppercase."
   ]
  },
  {
   "cell_type": "code",
   "execution_count": 2,
   "id": "fa55b7b7",
   "metadata": {},
   "outputs": [
    {
     "data": {
      "text/plain": [
       "'Bollywood'"
      ]
     },
     "execution_count": 2,
     "metadata": {},
     "output_type": "execute_result"
    }
   ],
   "source": [
    "#capitalize() method\n",
    "s='bollywood'\n",
    "s.capitalize()"
   ]
  },
  {
   "cell_type": "markdown",
   "id": "08860402",
   "metadata": {},
   "source": [
    "## 2. Lower() function which returns the string after converting all the characters to lowercase."
   ]
  },
  {
   "cell_type": "code",
   "execution_count": 4,
   "id": "deed9f58",
   "metadata": {},
   "outputs": [
    {
     "data": {
      "text/plain": [
       "'cinema'"
      ]
     },
     "execution_count": 4,
     "metadata": {},
     "output_type": "execute_result"
    }
   ],
   "source": [
    "#lower() method\n",
    "s1='CINEMA'\n",
    "s1.lower()"
   ]
  },
  {
   "cell_type": "markdown",
   "id": "d1212736",
   "metadata": {},
   "source": [
    "## 3. Upper() function which returns the string after converting all the characters to upper case."
   ]
  },
  {
   "cell_type": "code",
   "execution_count": 5,
   "id": "b631c593",
   "metadata": {},
   "outputs": [
    {
     "data": {
      "text/plain": [
       "'MOVIE'"
      ]
     },
     "execution_count": 5,
     "metadata": {},
     "output_type": "execute_result"
    }
   ],
   "source": [
    "#Upper() method\n",
    "a='movie'\n",
    "a.upper()"
   ]
  },
  {
   "cell_type": "markdown",
   "id": "ce0d5ee6",
   "metadata": {},
   "source": [
    "## 4. Join () function which returns the string after concatenating elements of the string with a separator."
   ]
  },
  {
   "cell_type": "code",
   "execution_count": 6,
   "id": "afda78e9",
   "metadata": {},
   "outputs": [
    {
     "name": "stdout",
     "output_type": "stream",
     "text": [
      "Ram Shyam Mohan\n"
     ]
    }
   ],
   "source": [
    "#join() method\n",
    "s1=['Ram','Shyam','Mohan']\n",
    "x=\" \".join(s1)\n",
    "print(x)"
   ]
  },
  {
   "cell_type": "markdown",
   "id": "4203ac13",
   "metadata": {},
   "source": [
    "## 5. Len () function which returns the length of the string."
   ]
  },
  {
   "cell_type": "code",
   "execution_count": 7,
   "id": "90be5312",
   "metadata": {},
   "outputs": [
    {
     "data": {
      "text/plain": [
       "27"
      ]
     },
     "execution_count": 7,
     "metadata": {},
     "output_type": "execute_result"
    }
   ],
   "source": [
    "#len() method\n",
    "s='Python Programming Language'\n",
    "len(s)"
   ]
  },
  {
   "cell_type": "markdown",
   "id": "eab6e05d",
   "metadata": {},
   "source": [
    "## 6. count () function which returns the number of occurrences of the substring."
   ]
  },
  {
   "cell_type": "code",
   "execution_count": 8,
   "id": "e9ea5372",
   "metadata": {},
   "outputs": [
    {
     "data": {
      "text/plain": [
       "2"
      ]
     },
     "execution_count": 8,
     "metadata": {},
     "output_type": "execute_result"
    }
   ],
   "source": [
    "#count() method\n",
    "st='Lionel Messi'\n",
    "st.count('e')"
   ]
  },
  {
   "cell_type": "markdown",
   "id": "16566014",
   "metadata": {},
   "source": [
    "## 7. find () function which returns the index of the subtring if it is found, else returns -1"
   ]
  },
  {
   "cell_type": "code",
   "execution_count": 9,
   "id": "482d2c8a",
   "metadata": {},
   "outputs": [
    {
     "data": {
      "text/plain": [
       "-1"
      ]
     },
     "execution_count": 9,
     "metadata": {},
     "output_type": "execute_result"
    }
   ],
   "source": [
    "#find() method\n",
    "s='Ronaldo'\n",
    "s.find('u')"
   ]
  },
  {
   "cell_type": "markdown",
   "id": "4e9a3236",
   "metadata": {},
   "source": [
    "## 8. Is lower () function which checks if all the characters of the string are lower case or not "
   ]
  },
  {
   "cell_type": "code",
   "execution_count": 10,
   "id": "17f83d89",
   "metadata": {},
   "outputs": [
    {
     "data": {
      "text/plain": [
       "True"
      ]
     },
     "execution_count": 10,
     "metadata": {},
     "output_type": "execute_result"
    }
   ],
   "source": [
    "#Islower() Method\n",
    "s='actors'\n",
    "s.islower()"
   ]
  },
  {
   "cell_type": "markdown",
   "id": "d6f3b061",
   "metadata": {},
   "source": [
    "## 9. Is upper () function which checks if all the characters of the string are upper case or not"
   ]
  },
  {
   "cell_type": "code",
   "execution_count": 11,
   "id": "b5ff3828",
   "metadata": {},
   "outputs": [
    {
     "data": {
      "text/plain": [
       "True"
      ]
     },
     "execution_count": 11,
     "metadata": {},
     "output_type": "execute_result"
    }
   ],
   "source": [
    "#Isupper() method\n",
    "a='SONGS'\n",
    "a.isupper()"
   ]
  },
  {
   "cell_type": "markdown",
   "id": "1ae542c2",
   "metadata": {},
   "source": [
    "## 10. split() function which returns a list of the string after breaking the string by the separator."
   ]
  },
  {
   "cell_type": "code",
   "execution_count": 12,
   "id": "cc2b5c5d",
   "metadata": {},
   "outputs": [
    {
     "data": {
      "text/plain": [
       "['Data ', ' Science']"
      ]
     },
     "execution_count": 12,
     "metadata": {},
     "output_type": "execute_result"
    }
   ],
   "source": [
    "##split() method\n",
    "s='Data + Science'\n",
    "s.split('+')"
   ]
  },
  {
   "cell_type": "code",
   "execution_count": 13,
   "id": "e9e548eb",
   "metadata": {},
   "outputs": [
    {
     "data": {
      "text/plain": [
       "['Data', 'Science']"
      ]
     },
     "execution_count": 13,
     "metadata": {},
     "output_type": "execute_result"
    }
   ],
   "source": [
    "##split() method\n",
    "s='Data Science'\n",
    "s.split(' ')"
   ]
  },
  {
   "cell_type": "markdown",
   "id": "c3321de8",
   "metadata": {},
   "source": [
    "## 11. strip () function which removes any extra spaces at the beginning and the end of the string"
   ]
  },
  {
   "cell_type": "code",
   "execution_count": 15,
   "id": "788610cd",
   "metadata": {},
   "outputs": [
    {
     "data": {
      "text/plain": [
       "'Tom Cruise'"
      ]
     },
     "execution_count": 15,
     "metadata": {},
     "output_type": "execute_result"
    }
   ],
   "source": [
    "#strip() method\n",
    "s='  Tom Cruise  '\n",
    "s.strip()"
   ]
  }
 ],
 "metadata": {
  "kernelspec": {
   "display_name": "Python 3",
   "language": "python",
   "name": "python3"
  },
  "language_info": {
   "codemirror_mode": {
    "name": "ipython",
    "version": 3
   },
   "file_extension": ".py",
   "mimetype": "text/x-python",
   "name": "python",
   "nbconvert_exporter": "python",
   "pygments_lexer": "ipython3",
   "version": "3.6.8"
  }
 },
 "nbformat": 4,
 "nbformat_minor": 5
}
