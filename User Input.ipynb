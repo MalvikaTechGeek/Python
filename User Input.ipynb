{
 "cells": [
  {
   "cell_type": "markdown",
   "id": "e4ebc78f",
   "metadata": {},
   "source": [
    "## User Input\n",
    "\n",
    "## input() function takes input from the user and evaluates it."
   ]
  },
  {
   "cell_type": "code",
   "execution_count": 1,
   "id": "6f69044c",
   "metadata": {},
   "outputs": [
    {
     "name": "stdout",
     "output_type": "stream",
     "text": [
      "Python\n"
     ]
    }
   ],
   "source": [
    "x=input()"
   ]
  },
  {
   "cell_type": "code",
   "execution_count": 2,
   "id": "cd19c5f9",
   "metadata": {},
   "outputs": [
    {
     "name": "stdout",
     "output_type": "stream",
     "text": [
      "What is your name:Malvika\n"
     ]
    },
    {
     "data": {
      "text/plain": [
       "'Malvika'"
      ]
     },
     "execution_count": 2,
     "metadata": {},
     "output_type": "execute_result"
    }
   ],
   "source": [
    "#passing messages\n",
    "input('What is your name:')"
   ]
  },
  {
   "cell_type": "code",
   "execution_count": 3,
   "id": "6b78379c",
   "metadata": {},
   "outputs": [
    {
     "name": "stdout",
     "output_type": "stream",
     "text": [
      "Enter a number:7\n"
     ]
    }
   ],
   "source": [
    "x=int(input('Enter a number:'  ))"
   ]
  },
  {
   "cell_type": "code",
   "execution_count": null,
   "id": "98641b5d",
   "metadata": {},
   "outputs": [],
   "source": [
    "y=float (input('Enter your marks:'))"
   ]
  }
 ],
 "metadata": {
  "kernelspec": {
   "display_name": "Python 3",
   "language": "python",
   "name": "python3"
  },
  "language_info": {
   "codemirror_mode": {
    "name": "ipython",
    "version": 3
   },
   "file_extension": ".py",
   "mimetype": "text/x-python",
   "name": "python",
   "nbconvert_exporter": "python",
   "pygments_lexer": "ipython3",
   "version": "3.6.8"
  }
 },
 "nbformat": 4,
 "nbformat_minor": 5
}
