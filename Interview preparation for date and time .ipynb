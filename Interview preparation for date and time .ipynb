{
 "cells": [
  {
   "cell_type": "code",
   "execution_count": 4,
   "id": "d9aa5bc0",
   "metadata": {},
   "outputs": [
    {
     "name": "stdout",
     "output_type": "stream",
     "text": [
      "Enter the employee's date of birth (YYYY-MM-DD): 15-12-1995\n",
      "Invalid date of birth format. Please use YYYY-MM-DD.\n"
     ]
    }
   ],
   "source": [
    "\n",
    "from datetime import datetime\n",
    "\n",
    "def calculate_age(dob):\n",
    "    # Get the current date\n",
    "    current_date = datetime.now()\n",
    "\n",
    "    # Convert the DOB string to a datetime object\n",
    "    dob_date = datetime.strptime(dob, '%Y-%m-%d')  # Assuming the format is YYYY-MM-DD\n",
    "\n",
    "    # Calculate the age by subtracting the DOB from the current date\n",
    "    age = current_date.year - dob_date.year - ((current_date.month, current_date.day) < (dob_date.month, dob_date.day))\n",
    "\n",
    "    return age\n",
    "\n",
    "# Example usage:\n",
    "dob_input = input(\"Enter the employee's date of birth (YYYY-MM-DD): \")\n",
    "try:\n",
    "    age_result = calculate_age(dob_input)\n",
    "    print(f\"The employee is {age_result} years old.\")\n",
    "except ValueError:\n",
    "    print(\"Invalid date of birth format. Please use YYYY-MM-DD.\")\n"
   ]
  },
  {
   "cell_type": "code",
   "execution_count": null,
   "id": "1aa119d1",
   "metadata": {},
   "outputs": [],
   "source": [
    "from datetime import datetime\n",
    "\n",
    "def calculate_age(dob):\n",
    "    # Get the current date\n",
    "    current_date = datetime.now()\n",
    "\n",
    "    # Convert the DOB string to a datetime object\n",
    "    dob_date = datetime.strptime(dob, '%Y-%m-%d')  # Assuming the format is YYYY-MM-DD\n",
    "\n",
    "    # Calculate the age by subtracting the DOB from the current date\n",
    "    age = current_date.year - dob_date.year - ((current_date.month, current_date.day) < (dob_date.month, dob_date.day))\n",
    "\n",
    "    return age\n",
    "\n",
    "# Example usage:\n",
    "dob_input = input(\"Enter the employee's date of birth (YYYY-MM-DD): \")\n",
    "try:\n",
    "    age_result = calculate_age(dob_input)\n",
    "    print(f\"The employee is {age_result} years old.\")\n",
    "except ValueError:\n",
    "    print(\"Invalid date of birth format. Please use YYYY-MM-DD.\")\n",
    "\n"
   ]
  },
  {
   "cell_type": "code",
   "execution_count": null,
   "id": "92ff6d87",
   "metadata": {},
   "outputs": [],
   "source": [
    "from datetime import datetime, timedelta\n",
    "\n",
    "def calculate_sunday_income(year, class_fee, students_per_class):\n",
    "    # Initialize the start date for the given year\n",
    "    start_date = datetime(year, 1, 1)\n",
    "\n",
    "    # Calculate the day difference to the next Sunday\n",
    "    days_until_sunday = (6 - start_date.weekday()) % 7\n",
    "\n",
    "    # Set the initial date to the first Sunday\n",
    "    start_date += timedelta(days=days_until_sunday)\n",
    "\n",
    "    # Initialize variables for total income and total Sundays\n",
    "    total_income = 0\n",
    "    total_sundays = 0\n",
    "\n",
    "    # Loop through the Sundays and calculate income\n",
    "    while start_date.year == year:\n",
    "        total_income += class_fee * students_per_class\n",
    "        total_sundays += 1\n",
    "        start_date += timedelta(weeks=1)\n",
    "\n",
    "    return total_income, total_sundays\n",
    "\n",
    "# Example usage:\n",
    "year_input = int(input(\"Enter the upcoming year (YYYY): \"))\n",
    "class_fee = 100  # Assuming one class fee is 100 rupees\n",
    "students_per_class = 8  # Assuming there are eight students in each class\n",
    "\n",
    "income, sundays = calculate_sunday_income(year_input, class_fee, students_per_class)\n",
    "\n",
    "print(f\"The gym coach is going to make {income} rupees from {sundays} Sundays in the year {year_input}.\")"
   ]
  },
  {
   "cell_type": "code",
   "execution_count": null,
   "id": "3bf05638",
   "metadata": {},
   "outputs": [],
   "source": [
    "from datetime import datetime, timedelta\n",
    "\n",
    "def find_task_deadline_and_appraisal(start_date, task_duration_days, appraisal_weeks):\n",
    "    # Calculate task deadline\n",
    "    task_deadline = start_date + timedelta(days=task_duration_days)\n",
    "\n",
    "    # Calculate appraisal date\n",
    "    appraisal_date = start_date + timedelta(weeks=appraisal_weeks)\n",
    "\n",
    "    # Determine which comes first: task deadline or appraisal\n",
    "    if task_deadline < appraisal_date:\n",
    "        first_event = \"Task Deadline\"\n",
    "        second_event = \"Appraisal Meeting\"\n",
    "    else:\n",
    "        first_event = \"Appraisal Meeting\"\n",
    "        second_event = \"Task Deadline\"\n",
    "\n",
    "    return task_deadline, appraisal_date, first_event, second_event\n",
    "\n",
    "# Example usage:\n",
    "today = datetime.now()\n",
    "\n",
    "# Assuming the employee has 38 days for the task and the appraisal meeting is in exactly 6 weeks\n",
    "task_duration_days = 38\n",
    "appraisal_weeks = 6\n",
    "task_deadline, appraisal_date, first_event, second_event = find_task_deadline_and_appraisal(today, task_duration_days, appraisal_weeks)\n",
    "\n",
    "print(f\"The task deadline is on {task_deadline.strftime('%Y-%m-%d')}.\")\n",
    "print(f\"The appraisal meeting is on {appraisal_date.strftime('%Y-%m-%d')}.\")\n",
    "print(f\"The event that comes first is: {first_event}.\")\n",
    "print(f\"The event that comes second is: {second_event}.\")"
   ]
  },
  {
   "cell_type": "markdown",
   "id": "6b97d965",
   "metadata": {},
   "source": [
    "# 1. Write a program to help  an employer to find the age of their employees`. He has employees`s date, month and year of birth. Help him to calculate the age using datetime module from python."
   ]
  },
  {
   "cell_type": "code",
   "execution_count": null,
   "id": "4d04b1f8",
   "metadata": {},
   "outputs": [],
   "source": [
    "from datetime import datetime\n",
    "def calculate_age(dtob):\n",
    "    today = date.today()\n",
    "    return today.year - dtob.year - ((today.month, today.day) < (dtob.month, dtob.day))\n",
    "year=int(input('Enter the year:'))\n",
    "month= int(input('Enter the month:'))\n",
    "date_ = int(input('Enter the date:'))\n",
    "age = calculate_age(date(year,month,date_))\n",
    "print(f'Age of the employee : {age}')"
   ]
  },
  {
   "cell_type": "markdown",
   "id": "5d004c82",
   "metadata": {},
   "source": [
    "# 2. A gym coach has passion towards fitness and he is coaching for 8 students in each sundays, for one class he is charging 100 rupees and new year(2022) going to start in few days. Help him to calculate the money he is going to make from sunday classes in the upcoming year."
   ]
  },
  {
   "cell_type": "code",
   "execution_count": null,
   "id": "30a179fb",
   "metadata": {},
   "outputs": [],
   "source": [
    "from datetime import date, timedelta\n",
    "\n",
    "def allsundays(year) :\n",
    "    d = date(year, 1, 1)\n",
    "    d += timedelta(days = 6 - d.weekday())\n",
    "    while d.year == year:\n",
    "        yield d\n",
    "        d += timedelta(days = 7)\n",
    "        \n",
    "sunday_counts=[]\n",
    "for d in allsundays(2022):\n",
    "    sunday_counts.append(d)\n",
    "    \n",
    "money=100*len(sunday_counts)\n",
    "print(f'Money from sunday coaching: {money} Rupees')"
   ]
  },
  {
   "cell_type": "markdown",
   "id": "eee7e8b4",
   "metadata": {},
   "source": [
    "# 3. An employee has been assigned to a task with a deadline. His deadline is in 38 days from today. His already knows that his appraisal meeting with manager is in 6 week. Help him find the dates of his task deadline and appraisal which will help him to work concentraded on the task."
   ]
  },
  {
   "cell_type": "code",
   "execution_count": null,
   "id": "107c4f28",
   "metadata": {},
   "outputs": [],
   "source": [
    "from datetime import datetime, timedelta\n",
    "\n",
    "now = datetime.now()\n",
    "print (\"Today's date: \", str(now))\n",
    "\n",
    "\n",
    "deadline = now + timedelta(days = 38)\n",
    "print('Task deadline: ', deadline)\n",
    "\n",
    "appraisal = now + timedelta(weeks = 6)\n",
    "print('Appraisal meeting: ', appraisal)\n",
    "\n",
    "if appraisal < deadline:\n",
    "    print('Appraisal meet before the task deadline')\n",
    "else:\n",
    "    print('Appraisal meet after the task deadline')"
   ]
  },
  {
   "cell_type": "code",
   "execution_count": null,
   "id": "289209f7",
   "metadata": {},
   "outputs": [],
   "source": []
  }
 ],
 "metadata": {
  "kernelspec": {
   "display_name": "Python 3",
   "language": "python",
   "name": "python3"
  },
  "language_info": {
   "codemirror_mode": {
    "name": "ipython",
    "version": 3
   },
   "file_extension": ".py",
   "mimetype": "text/x-python",
   "name": "python",
   "nbconvert_exporter": "python",
   "pygments_lexer": "ipython3",
   "version": "3.6.8"
  }
 },
 "nbformat": 4,
 "nbformat_minor": 5
}
