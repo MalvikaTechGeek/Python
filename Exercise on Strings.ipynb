{
 "cells": [
  {
   "cell_type": "code",
   "execution_count": 4,
   "id": "2dd480bd",
   "metadata": {},
   "outputs": [
    {
     "name": "stdout",
     "output_type": "stream",
     "text": [
      "Enter the day: 2\n",
      "Enter the month: 08\n",
      "Enter the year: 2023\n",
      "In the Summer, you entered: 02 08 2023.\n",
      "To Date: 02/08/2023\n",
      "Y y: 23\n"
     ]
    }
   ],
   "source": [
    "def get_season(month):\n",
    "    if 3 <= month <= 5:\n",
    "        return 'Spring'\n",
    "    elif 6 <= month <= 8:\n",
    "        return 'Summer'\n",
    "    elif 9 <= month <= 11:\n",
    "        return 'Fall'\n",
    "    else:\n",
    "        return 'Winter'\n",
    "\n",
    "def format_date(day, month, year):\n",
    "    return f\"{day:02d} {month:02d} {year}.\"\n",
    "\n",
    "def main():\n",
    "    day = int(input(\"Enter the day: \"))\n",
    "    month = int(input(\"Enter the month: \"))\n",
    "    year = int(input(\"Enter the year: \"))\n",
    "\n",
    "    season = get_season(month)\n",
    "    formatted_date = format_date(day, month, year)\n",
    "\n",
    "    print(f\"In the {season}, you entered: {formatted_date}\")\n",
    "    print(f\"To Date: {day:02d}/{month:02d}/{year}\")\n",
    "    print(f\"Y y: {year % 100:02d}\")\n",
    "\n",
    "if __name__ == \"__main__\":\n",
    "    main()"
   ]
  },
  {
   "cell_type": "code",
   "execution_count": 5,
   "id": "38ac0ad7",
   "metadata": {},
   "outputs": [
    {
     "name": "stdout",
     "output_type": "stream",
     "text": [
      "Enter a sentence: python is good\n",
      "Capitalized sentence: Python Is Good\n"
     ]
    }
   ],
   "source": [
    "def capitalize_sentence(sentence):\n",
    "    words = sentence.split()\n",
    "    capitalized_words = [word.capitalize() for word in words]\n",
    "    return \" \".join(capitalized_words)\n",
    "\n",
    "def main():\n",
    "    input_string = input(\"Enter a sentence: \")\n",
    "    capitalized_sentence = capitalize_sentence(input_string)\n",
    "    print(\"Capitalized sentence:\", capitalized_sentence)\n",
    "\n",
    "if __name__ == \"__main__\":\n",
    "    main()"
   ]
  },
  {
   "cell_type": "code",
   "execution_count": 7,
   "id": "a83e2975",
   "metadata": {},
   "outputs": [
    {
     "name": "stdout",
     "output_type": "stream",
     "text": [
      "Enter a string: \"Hello, World!\"\n",
      "Enter the index to mutate: 5\n",
      "Enter the new character: m\n",
      "Mutated string: \"Hellm, World!\"\n"
     ]
    }
   ],
   "source": [
    "def mutate_string(input_string, index, new_char):\n",
    "    if index < 0 or index >= len(input_string):\n",
    "        raise IndexError(\"Index out of range\")\n",
    "\n",
    "    string_list = list(input_string)\n",
    "    string_list[index] = new_char\n",
    "    mutated_string = \"\".join(string_list)\n",
    "    return mutated_string\n",
    "\n",
    "def main():\n",
    "    input_string = input(\"Enter a string: \")\n",
    "    try:\n",
    "        index = int(input(\"Enter the index to mutate: \"))\n",
    "        new_char = input(\"Enter the new character: \")\n",
    "        mutated_string = mutate_string(input_string, index, new_char)\n",
    "        print(\"Mutated string:\", mutated_string)\n",
    "    except ValueError:\n",
    "        print(\"Invalid index input. Please enter a valid integer index.\")\n",
    "    except IndexError as e:\n",
    "        print(e)\n",
    "\n",
    "if __name__ == \"__main__\":\n",
    "    main()"
   ]
  },
  {
   "cell_type": "code",
   "execution_count": null,
   "id": "57abb8c8",
   "metadata": {},
   "outputs": [],
   "source": []
  }
 ],
 "metadata": {
  "kernelspec": {
   "display_name": "Python 3",
   "language": "python",
   "name": "python3"
  },
  "language_info": {
   "codemirror_mode": {
    "name": "ipython",
    "version": 3
   },
   "file_extension": ".py",
   "mimetype": "text/x-python",
   "name": "python",
   "nbconvert_exporter": "python",
   "pygments_lexer": "ipython3",
   "version": "3.6.8"
  }
 },
 "nbformat": 4,
 "nbformat_minor": 5
}
