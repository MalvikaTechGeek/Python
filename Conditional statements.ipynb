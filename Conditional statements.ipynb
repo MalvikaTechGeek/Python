{
 "cells": [
  {
   "cell_type": "markdown",
   "id": "62664d73",
   "metadata": {},
   "source": [
    "## Conditional Statements\n",
    "# The conditional statements in Python allows to perform some sort of decision making. The decision making process in Python is done using if,elif and else.\n",
    "\n",
    "# Syntax\n",
    "## if(condition):\n",
    "## statement(s)"
   ]
  },
  {
   "cell_type": "code",
   "execution_count": 1,
   "id": "20b46ef6",
   "metadata": {},
   "outputs": [
    {
     "name": "stdout",
     "output_type": "stream",
     "text": [
      "x is greater than 0\n"
     ]
    }
   ],
   "source": [
    "#example of if statement\n",
    "x=3\n",
    "if(x>0):\n",
    "    print('x is greater than 0') "
   ]
  },
  {
   "cell_type": "code",
   "execution_count": 4,
   "id": "8a6c1705",
   "metadata": {},
   "outputs": [
    {
     "name": "stdout",
     "output_type": "stream",
     "text": [
      "x is not divisible by 2\n"
     ]
    }
   ],
   "source": [
    "#example of if else statement\n",
    "x=5\n",
    "if(x%2==0):\n",
    "        print('x is divisible by 2')\n",
    "else:\n",
    "        print('x is not divisible by 2')"
   ]
  },
  {
   "cell_type": "code",
   "execution_count": 7,
   "id": "f0a956c4",
   "metadata": {},
   "outputs": [
    {
     "name": "stdout",
     "output_type": "stream",
     "text": [
      "y is greater than 30\n"
     ]
    }
   ],
   "source": [
    "#example of if else statement\n",
    "y=34\n",
    "if(y<10):\n",
    "        print('y is less than 10')\n",
    "elif(y>10 and y<30):\n",
    "        print('y is between 10 and 30')\n",
    "else:\n",
    "        print('y is greater than 30')"
   ]
  }
 ],
 "metadata": {
  "kernelspec": {
   "display_name": "Python 3",
   "language": "python",
   "name": "python3"
  },
  "language_info": {
   "codemirror_mode": {
    "name": "ipython",
    "version": 3
   },
   "file_extension": ".py",
   "mimetype": "text/x-python",
   "name": "python",
   "nbconvert_exporter": "python",
   "pygments_lexer": "ipython3",
   "version": "3.6.8"
  }
 },
 "nbformat": 4,
 "nbformat_minor": 5
}
