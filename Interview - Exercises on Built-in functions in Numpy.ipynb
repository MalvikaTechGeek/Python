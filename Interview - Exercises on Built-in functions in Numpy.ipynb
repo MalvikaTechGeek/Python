{
 "cells": [
  {
   "cell_type": "markdown",
   "id": "3f5aad32",
   "metadata": {},
   "source": [
    "# 1.consider a one dimensional array Z build a two dimensional array whose first row is the (Z[0], Z[1],Z[2]) And each subsequent row is shifted by one last row should be (Z [-3], Z[-2],Z[-1])? and create 4 sub arrays with the created two-dimensional array."
   ]
  },
  {
   "cell_type": "code",
   "execution_count": 1,
   "id": "af8c1780",
   "metadata": {},
   "outputs": [
    {
     "ename": "ValueError",
     "evalue": "cannot reshape array of size 10 into shape (3)",
     "output_type": "error",
     "traceback": [
      "\u001b[1;31m---------------------------------------------------------------------------\u001b[0m",
      "\u001b[1;31mValueError\u001b[0m                                Traceback (most recent call last)",
      "\u001b[1;32m<ipython-input-1-f131896f7cbf>\u001b[0m in \u001b[0;36m<module>\u001b[1;34m\u001b[0m\n\u001b[0;32m      5\u001b[0m \u001b[1;33m\u001b[0m\u001b[0m\n\u001b[0;32m      6\u001b[0m \u001b[1;31m# Reshape the one-dimensional array into a two-dimensional array\u001b[0m\u001b[1;33m\u001b[0m\u001b[1;33m\u001b[0m\u001b[1;33m\u001b[0m\u001b[0m\n\u001b[1;32m----> 7\u001b[1;33m \u001b[0mZ_2d\u001b[0m \u001b[1;33m=\u001b[0m \u001b[0mnp\u001b[0m\u001b[1;33m.\u001b[0m\u001b[0mreshape\u001b[0m\u001b[1;33m(\u001b[0m\u001b[0mZ\u001b[0m\u001b[1;33m,\u001b[0m \u001b[1;33m(\u001b[0m\u001b[1;33m-\u001b[0m\u001b[1;36m1\u001b[0m\u001b[1;33m,\u001b[0m \u001b[1;36m3\u001b[0m\u001b[1;33m)\u001b[0m\u001b[1;33m)\u001b[0m  \u001b[1;31m# Reshape into (n, 3) where n is automatically determined\u001b[0m\u001b[1;33m\u001b[0m\u001b[1;33m\u001b[0m\u001b[0m\n\u001b[0m\u001b[0;32m      8\u001b[0m \u001b[1;33m\u001b[0m\u001b[0m\n\u001b[0;32m      9\u001b[0m \u001b[1;31m# Create the first row and the last row\u001b[0m\u001b[1;33m\u001b[0m\u001b[1;33m\u001b[0m\u001b[1;33m\u001b[0m\u001b[0m\n",
      "\u001b[1;32m<__array_function__ internals>\u001b[0m in \u001b[0;36mreshape\u001b[1;34m(*args, **kwargs)\u001b[0m\n",
      "\u001b[1;32mc:\\users\\hp\\appdata\\local\\programs\\python\\python36\\lib\\site-packages\\numpy\\core\\fromnumeric.py\u001b[0m in \u001b[0;36mreshape\u001b[1;34m(a, newshape, order)\u001b[0m\n\u001b[0;32m    297\u001b[0m            [5, 6]])\n\u001b[0;32m    298\u001b[0m     \"\"\"\n\u001b[1;32m--> 299\u001b[1;33m     \u001b[1;32mreturn\u001b[0m \u001b[0m_wrapfunc\u001b[0m\u001b[1;33m(\u001b[0m\u001b[0ma\u001b[0m\u001b[1;33m,\u001b[0m \u001b[1;34m'reshape'\u001b[0m\u001b[1;33m,\u001b[0m \u001b[0mnewshape\u001b[0m\u001b[1;33m,\u001b[0m \u001b[0morder\u001b[0m\u001b[1;33m=\u001b[0m\u001b[0morder\u001b[0m\u001b[1;33m)\u001b[0m\u001b[1;33m\u001b[0m\u001b[1;33m\u001b[0m\u001b[0m\n\u001b[0m\u001b[0;32m    300\u001b[0m \u001b[1;33m\u001b[0m\u001b[0m\n\u001b[0;32m    301\u001b[0m \u001b[1;33m\u001b[0m\u001b[0m\n",
      "\u001b[1;32mc:\\users\\hp\\appdata\\local\\programs\\python\\python36\\lib\\site-packages\\numpy\\core\\fromnumeric.py\u001b[0m in \u001b[0;36m_wrapfunc\u001b[1;34m(obj, method, *args, **kwds)\u001b[0m\n\u001b[0;32m     56\u001b[0m \u001b[1;33m\u001b[0m\u001b[0m\n\u001b[0;32m     57\u001b[0m     \u001b[1;32mtry\u001b[0m\u001b[1;33m:\u001b[0m\u001b[1;33m\u001b[0m\u001b[1;33m\u001b[0m\u001b[0m\n\u001b[1;32m---> 58\u001b[1;33m         \u001b[1;32mreturn\u001b[0m \u001b[0mbound\u001b[0m\u001b[1;33m(\u001b[0m\u001b[1;33m*\u001b[0m\u001b[0margs\u001b[0m\u001b[1;33m,\u001b[0m \u001b[1;33m**\u001b[0m\u001b[0mkwds\u001b[0m\u001b[1;33m)\u001b[0m\u001b[1;33m\u001b[0m\u001b[1;33m\u001b[0m\u001b[0m\n\u001b[0m\u001b[0;32m     59\u001b[0m     \u001b[1;32mexcept\u001b[0m \u001b[0mTypeError\u001b[0m\u001b[1;33m:\u001b[0m\u001b[1;33m\u001b[0m\u001b[1;33m\u001b[0m\u001b[0m\n\u001b[0;32m     60\u001b[0m         \u001b[1;31m# A TypeError occurs if the object does have such a method in its\u001b[0m\u001b[1;33m\u001b[0m\u001b[1;33m\u001b[0m\u001b[1;33m\u001b[0m\u001b[0m\n",
      "\u001b[1;31mValueError\u001b[0m: cannot reshape array of size 10 into shape (3)"
     ]
    }
   ],
   "source": [
    "import numpy as np\n",
    "\n",
    "# Create a one-dimensional array\n",
    "Z = np.arange(10)\n",
    "\n",
    "# Reshape the one-dimensional array into a two-dimensional array\n",
    "Z_2d = np.reshape(Z, (-1, 3))  # Reshape into (n, 3) where n is automatically determined\n",
    "\n",
    "# Create the first row and the last row\n",
    "first_row = Z[:3]\n",
    "last_row = Z[-3:]\n",
    "\n",
    "# Shift the rows\n",
    "shifted_rows = np.roll(Z_2d, shift=1, axis=0)\n",
    "\n",
    "# Replace the first row and the last row\n",
    "shifted_rows[0] = first_row\n",
    "shifted_rows[-1] = last_row\n",
    "\n",
    "# Split the two-dimensional array into four subarrays\n",
    "sub_arrays = np.split(shifted_rows, 4)\n",
    "\n",
    "# Print the subarrays\n",
    "for i, sub_array in enumerate(sub_arrays):\n",
    "    print(f\"Subarray {i + 1}:\")\n",
    "    print(sub_array)\n",
    "    print()"
   ]
  },
  {
   "cell_type": "code",
   "execution_count": 7,
   "id": "10de26aa",
   "metadata": {},
   "outputs": [
    {
     "name": "stdout",
     "output_type": "stream",
     "text": [
      "Creating 8X3 array using numpy.arange\n",
      "[[10 11 12]\n",
      " [13 14 15]\n",
      " [16 17 18]\n",
      " [19 20 21]\n",
      " [22 23 24]\n",
      " [25 26 27]\n",
      " [28 29 30]\n",
      " [31 32 33]]\n",
      "\n",
      "Dividing 8X3 array into 4 sub array\n",
      "\n",
      "[array([[10, 11, 12],\n",
      "       [13, 14, 15]]), array([[16, 17, 18],\n",
      "       [19, 20, 21]]), array([[22, 23, 24],\n",
      "       [25, 26, 27]]), array([[28, 29, 30],\n",
      "       [31, 32, 33]])]\n"
     ]
    }
   ],
   "source": [
    "import numpy as np\n",
    "\n",
    "print(\"Creating 8X3 array using numpy.arange\")\n",
    "sampleArray = np.arange(10, 34, 1)\n",
    "sampleArray = sampleArray.reshape(8,3)\n",
    "print(sampleArray)\n",
    "\n",
    "print(\"\\nDividing 8X3 array into 4 sub array\\n\")\n",
    "subArrays = np.split(sampleArray, 4)\n",
    "print(subArrays)"
   ]
  },
  {
   "cell_type": "markdown",
   "id": "42f01d2e",
   "metadata": {},
   "source": [
    "# 2.From is the input NumPy array delete column two and insert following new column in its place. Original 2D array:[[34 43 73] [82 22 12] [53 94 66]]. New column: [[10, 10,10]]"
   ]
  },
  {
   "cell_type": "code",
   "execution_count": 2,
   "id": "7ed35de3",
   "metadata": {},
   "outputs": [
    {
     "name": "stdout",
     "output_type": "stream",
     "text": [
      "Modified Array:\n",
      "[[34 10 73]\n",
      " [82 10 12]\n",
      " [53 10 66]]\n"
     ]
    }
   ],
   "source": [
    "import numpy as np\n",
    "\n",
    "# Original 2D array\n",
    "original_array = np.array([[34, 43, 73], [82, 22, 12], [53, 94, 66]])\n",
    "\n",
    "# New column to insert\n",
    "new_column = np.array([[10, 10, 10]])\n",
    "\n",
    "# Delete column two\n",
    "deleted_column_array = np.delete(original_array, 1, axis=1)\n",
    "\n",
    "# Insert the new column in its place\n",
    "modified_array = np.insert(deleted_column_array, 1, new_column, axis=1)\n",
    "\n",
    "print(\"Modified Array:\")\n",
    "print(modified_array)"
   ]
  },
  {
   "cell_type": "markdown",
   "id": "8819216c",
   "metadata": {},
   "source": [
    "# 3. Consider a set of 10 triplets (10X3 matrix) describing 10 triangles (with shared vertices), find the set of unique line segments composing all the triangles"
   ]
  },
  {
   "cell_type": "code",
   "execution_count": 3,
   "id": "37785cda",
   "metadata": {},
   "outputs": [
    {
     "name": "stdout",
     "output_type": "stream",
     "text": [
      "Set of unique line segments composing all the triangles:\n",
      "{(1, 3), (10, 11), (4, 5), (5, 6), (8, 9), (9, 10), (2, 3), (11, 12), (7, 9), (1, 2), (3, 5), (6, 7), (4, 6), (6, 8), (5, 7), (8, 10), (10, 12), (9, 11), (3, 4), (7, 8), (2, 4)}\n"
     ]
    }
   ],
   "source": [
    "import numpy as np\n",
    "\n",
    "# Suppose 'triangles' is a 10x3 matrix describing 10 triangles (with shared vertices)\n",
    "# Each row represents a triangle, with three columns representing the vertices of each triangle\n",
    "triangles = np.array([\n",
    "    [1, 2, 3],\n",
    "    [2, 3, 4],\n",
    "    [3, 4, 5],\n",
    "    [4, 5, 6],\n",
    "    [5, 6, 7],\n",
    "    [6, 7, 8],\n",
    "    [7, 8, 9],\n",
    "    [8, 9, 10],\n",
    "    [9, 10, 11],\n",
    "    [10, 11, 12]\n",
    "])\n",
    "\n",
    "# Function to extract line segments from a triangle\n",
    "def extract_line_segments(triangle):\n",
    "    line_segments = set()\n",
    "    for i in range(len(triangle)):\n",
    "        # Extract line segment between consecutive vertices\n",
    "        segment = tuple(sorted([triangle[i], triangle[(i+1)%3]]))\n",
    "        line_segments.add(segment)\n",
    "    return line_segments\n",
    "\n",
    "# Set to store unique line segments\n",
    "unique_line_segments = set()\n",
    "\n",
    "# Iterate over each triangle and extract line segments\n",
    "for triangle in triangles:\n",
    "    line_segments = extract_line_segments(triangle)\n",
    "    unique_line_segments.update(line_segments)\n",
    "\n",
    "print(\"Set of unique line segments composing all the triangles:\")\n",
    "print(unique_line_segments)"
   ]
  },
  {
   "cell_type": "code",
   "execution_count": null,
   "id": "4bf8e9a4",
   "metadata": {},
   "outputs": [],
   "source": []
  }
 ],
 "metadata": {
  "kernelspec": {
   "display_name": "Python 3",
   "language": "python",
   "name": "python3"
  },
  "language_info": {
   "codemirror_mode": {
    "name": "ipython",
    "version": 3
   },
   "file_extension": ".py",
   "mimetype": "text/x-python",
   "name": "python",
   "nbconvert_exporter": "python",
   "pygments_lexer": "ipython3",
   "version": "3.6.8"
  }
 },
 "nbformat": 4,
 "nbformat_minor": 5
}
