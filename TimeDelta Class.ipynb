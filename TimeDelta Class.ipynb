{
 "cells": [
  {
   "cell_type": "markdown",
   "id": "a98804ec",
   "metadata": {},
   "source": [
    "# TimeDelta Class"
   ]
  },
  {
   "cell_type": "markdown",
   "id": "43feec56",
   "metadata": {},
   "source": [
    "Time Delta is used for calculating differences in dates and is used for date manipulations in python."
   ]
  },
  {
   "cell_type": "markdown",
   "id": "00937e9a",
   "metadata": {},
   "source": [
    "# Let`s try to find the date and time exactly three months from now."
   ]
  },
  {
   "cell_type": "code",
   "execution_count": 1,
   "id": "0614ac13",
   "metadata": {},
   "outputs": [
    {
     "data": {
      "text/plain": [
       "datetime.datetime(2024, 4, 15, 22, 33, 10, 861472)"
      ]
     },
     "execution_count": 1,
     "metadata": {},
     "output_type": "execute_result"
    }
   ],
   "source": [
    "from datetime import datetime, timedelta\n",
    "\n",
    "todays_date = datetime.now()\n",
    "dateafter_months = todays_date+timedelta(days=90)\n",
    "dateafter_months"
   ]
  },
  {
   "cell_type": "code",
   "execution_count": 2,
   "id": "ba487340",
   "metadata": {},
   "outputs": [
    {
     "data": {
      "text/plain": [
       "datetime.datetime(2023, 10, 18, 22, 33, 10, 861472)"
      ]
     },
     "execution_count": 2,
     "metadata": {},
     "output_type": "execute_result"
    }
   ],
   "source": [
    "#date and time three months ago\n",
    "datebefore_months = todays_date-timedelta(days=90)\n",
    "datebefore_months"
   ]
  },
  {
   "cell_type": "code",
   "execution_count": null,
   "id": "252b6001",
   "metadata": {},
   "outputs": [],
   "source": []
  }
 ],
 "metadata": {
  "kernelspec": {
   "display_name": "Python 3",
   "language": "python",
   "name": "python3"
  },
  "language_info": {
   "codemirror_mode": {
    "name": "ipython",
    "version": 3
   },
   "file_extension": ".py",
   "mimetype": "text/x-python",
   "name": "python",
   "nbconvert_exporter": "python",
   "pygments_lexer": "ipython3",
   "version": "3.6.8"
  }
 },
 "nbformat": 4,
 "nbformat_minor": 5
}
