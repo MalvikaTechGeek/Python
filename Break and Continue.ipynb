{
 "cells": [
  {
   "cell_type": "markdown",
   "id": "a0f0df92",
   "metadata": {},
   "source": [
    "# Break Statement\n",
    "\n",
    "## The break keyword is used to break out a for loop, or a while loop, as soon as the condition is found to be true the iteration stops."
   ]
  },
  {
   "cell_type": "code",
   "execution_count": 1,
   "id": "95eed71d",
   "metadata": {},
   "outputs": [
    {
     "name": "stdout",
     "output_type": "stream",
     "text": [
      "1\n",
      "2\n",
      "3\n",
      "4\n",
      "5\n"
     ]
    }
   ],
   "source": [
    "#using break statement\n",
    "for i in range(1,10):\n",
    "        print(i)\n",
    "        if i==5:\n",
    "            break"
   ]
  },
  {
   "cell_type": "markdown",
   "id": "f44208f4",
   "metadata": {},
   "source": [
    "# Continue Statement\n",
    "## Using the continue statement, we can only skip the current iteration of the loop, and continue with the next."
   ]
  },
  {
   "cell_type": "code",
   "execution_count": 2,
   "id": "256ce776",
   "metadata": {},
   "outputs": [
    {
     "name": "stdout",
     "output_type": "stream",
     "text": [
      "1\n",
      "2\n",
      "3\n",
      "4\n",
      "6\n",
      "7\n",
      "8\n",
      "9\n"
     ]
    }
   ],
   "source": [
    "#using continue statement\n",
    "for i in range(1,10):\n",
    "        if i==5:\n",
    "            continue\n",
    "        print(i)   "
   ]
  }
 ],
 "metadata": {
  "kernelspec": {
   "display_name": "Python 3",
   "language": "python",
   "name": "python3"
  },
  "language_info": {
   "codemirror_mode": {
    "name": "ipython",
    "version": 3
   },
   "file_extension": ".py",
   "mimetype": "text/x-python",
   "name": "python",
   "nbconvert_exporter": "python",
   "pygments_lexer": "ipython3",
   "version": "3.6.8"
  }
 },
 "nbformat": 4,
 "nbformat_minor": 5
}
