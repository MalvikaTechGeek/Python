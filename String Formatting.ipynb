{
 "cells": [
  {
   "cell_type": "code",
   "execution_count": null,
   "id": "3439ece5",
   "metadata": {},
   "outputs": [],
   "source": [
    "#string using single quote\n",
    "s1='This is a string'\n",
    "\n",
    "#string using double quote\n",
    "s2=\"This is also a string\""
   ]
  },
  {
   "cell_type": "code",
   "execution_count": null,
   "id": "e7f9e5b8",
   "metadata": {},
   "outputs": [],
   "source": [
    "\"#Multiline string\\n\",\n",
    "    \"s= \"\"\"Python is my favourite language.\n",
    "       \"   Python is diverse and\n",
    "         \"it has a very large community\"\"\""
   ]
  },
  {
   "cell_type": "markdown",
   "id": "8e6bf2ec",
   "metadata": {},
   "source": [
    "## String Formatting"
   ]
  },
  {
   "cell_type": "code",
   "execution_count": 2,
   "id": "f5e61a34",
   "metadata": {},
   "outputs": [
    {
     "name": "stdout",
     "output_type": "stream",
     "text": [
      "Hello! I am Rose Mary\n"
     ]
    }
   ],
   "source": [
    "#declaring two variables\n",
    "first_name='Rose'\n",
    "last_name='Mary'\n",
    "\n",
    "#using format() function\n",
    "print('Hello! I am {} {}'.format(first_name,last_name))\n"
   ]
  },
  {
   "cell_type": "code",
   "execution_count": 3,
   "id": "50cb6eb0",
   "metadata": {},
   "outputs": [
    {
     "name": "stdout",
     "output_type": "stream",
     "text": [
      "Hello! I am Rose Mary\n"
     ]
    }
   ],
   "source": [
    "#using numbers inside brackets\n",
    "print('Hello! I am {0} {1}'.format(first_name,last_name))"
   ]
  },
  {
   "cell_type": "code",
   "execution_count": 4,
   "id": "a2c5c3c7",
   "metadata": {},
   "outputs": [
    {
     "name": "stdout",
     "output_type": "stream",
     "text": [
      "Hello! I am Rose Mary. Mary is my surname\n"
     ]
    }
   ],
   "source": [
    "print('Hello! I am {0} {1}. {1} is my surname'.format(first_name,last_name))"
   ]
  },
  {
   "cell_type": "markdown",
   "id": "128e1d59",
   "metadata": {},
   "source": [
    "## Ninja Tip!!!\n",
    "## f string"
   ]
  },
  {
   "cell_type": "code",
   "execution_count": 6,
   "id": "fc337fa4",
   "metadata": {},
   "outputs": [
    {
     "name": "stdout",
     "output_type": "stream",
     "text": [
      "My name is Karan.I am 40 years old\n"
     ]
    }
   ],
   "source": [
    "#declaring two variables\n",
    "f_name='Karan'\n",
    "age=40\n",
    "\n",
    "print(f'My name is {f_name}.I am {age} years old')"
   ]
  },
  {
   "cell_type": "code",
   "execution_count": null,
   "id": "55bc12b8",
   "metadata": {},
   "outputs": [],
   "source": []
  }
 ],
 "metadata": {
  "kernelspec": {
   "display_name": "Python 3",
   "language": "python",
   "name": "python3"
  },
  "language_info": {
   "codemirror_mode": {
    "name": "ipython",
    "version": 3
   },
   "file_extension": ".py",
   "mimetype": "text/x-python",
   "name": "python",
   "nbconvert_exporter": "python",
   "pygments_lexer": "ipython3",
   "version": "3.6.8"
  }
 },
 "nbformat": 4,
 "nbformat_minor": 5
}
