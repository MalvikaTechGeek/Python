{
 "cells": [
  {
   "cell_type": "markdown",
   "id": "8d633228",
   "metadata": {},
   "source": [
    "# Meta Characters"
   ]
  },
  {
   "cell_type": "markdown",
   "id": "bbacd2da",
   "metadata": {},
   "source": [
    "Metacharacters are the building blocks for regular expressions and they have a special meaning to a computer program"
   ]
  },
  {
   "cell_type": "code",
   "execution_count": 2,
   "id": "c27103fb",
   "metadata": {},
   "outputs": [],
   "source": [
    "import re"
   ]
  },
  {
   "cell_type": "code",
   "execution_count": 3,
   "id": "311c0f40",
   "metadata": {},
   "outputs": [
    {
     "data": {
      "text/plain": [
       "<_sre.SRE_Match object; span=(0, 1), match='a'>"
      ]
     },
     "execution_count": 3,
     "metadata": {},
     "output_type": "execute_result"
    }
   ],
   "source": [
    "#square brackets \n",
    "s = \"ac\"\n",
    "re.search('[abc]',s)"
   ]
  },
  {
   "cell_type": "code",
   "execution_count": 4,
   "id": "0bfde6c6",
   "metadata": {},
   "outputs": [
    {
     "data": {
      "text/plain": [
       "<_sre.SRE_Match object; span=(0, 1), match='a'>"
      ]
     },
     "execution_count": 4,
     "metadata": {},
     "output_type": "execute_result"
    }
   ],
   "source": [
    "#period\n",
    "s = \"ac\"\n",
    "re.search('.',s)"
   ]
  },
  {
   "cell_type": "code",
   "execution_count": 5,
   "id": "7874e113",
   "metadata": {},
   "outputs": [
    {
     "name": "stdout",
     "output_type": "stream",
     "text": [
      "<_sre.SRE_Match object; span=(0, 1), match='m'>\n"
     ]
    }
   ],
   "source": [
    "#caret\n",
    "s = 'mumbai'\n",
    "x = re.search('^m',s)\n",
    "print(x)"
   ]
  },
  {
   "cell_type": "code",
   "execution_count": 6,
   "id": "154f33b0",
   "metadata": {},
   "outputs": [
    {
     "name": "stdout",
     "output_type": "stream",
     "text": [
      "None\n",
      "<_sre.SRE_Match object; span=(5, 6), match='a'>\n"
     ]
    }
   ],
   "source": [
    "#dollar\n",
    "a = re.search('a$','Delhi')\n",
    "print(a)\n",
    "b = re.search('a$', 'Odissa')\n",
    "print(b)"
   ]
  },
  {
   "cell_type": "code",
   "execution_count": 7,
   "id": "2f64a0a0",
   "metadata": {},
   "outputs": [
    {
     "name": "stdout",
     "output_type": "stream",
     "text": [
      "<_sre.SRE_Match object; span=(0, 2), match='ma'>\n",
      "<_sre.SRE_Match object; span=(2, 4), match='ma'>\n"
     ]
    }
   ],
   "source": [
    "#star\n",
    "a = re.search('ma*','man')\n",
    "print(a)\n",
    "b = re.search('ma', 'woman')\n",
    "print(b)"
   ]
  },
  {
   "cell_type": "code",
   "execution_count": 8,
   "id": "777c6dd0",
   "metadata": {},
   "outputs": [
    {
     "name": "stdout",
     "output_type": "stream",
     "text": [
      "<_sre.SRE_Match object; span=(0, 2), match='ma'>\n",
      "<_sre.SRE_Match object; span=(2, 4), match='ma'>\n"
     ]
    }
   ],
   "source": [
    "#plus\n",
    "a = re.search('ma+','man')\n",
    "print(a)\n",
    "b = re.search('ma+', \"woman\")\n",
    "print(b)"
   ]
  },
  {
   "cell_type": "code",
   "execution_count": 9,
   "id": "9609d91c",
   "metadata": {},
   "outputs": [
    {
     "name": "stdout",
     "output_type": "stream",
     "text": [
      "None\n",
      "<_sre.SRE_Match object; span=(0, 2), match='aa'>\n"
     ]
    }
   ],
   "source": [
    "#braces\n",
    "a = re.search('a{2}', 'abc')\n",
    "print (a)\n",
    "b = re.search('a{2}', 'aab')\n",
    "print (b)"
   ]
  },
  {
   "cell_type": "code",
   "execution_count": 10,
   "id": "e63a9efc",
   "metadata": {},
   "outputs": [
    {
     "name": "stdout",
     "output_type": "stream",
     "text": [
      "<_sre.SRE_Match object; span=(1, 2), match='a'>\n",
      "None\n"
     ]
    }
   ],
   "source": [
    "#vertical bar\n",
    "a = re.search('a|b', 'mango')\n",
    "print(a)\n",
    "b = re.search('a|b', 'Pune')\n",
    "print (b)"
   ]
  },
  {
   "cell_type": "code",
   "execution_count": 11,
   "id": "975dcb93",
   "metadata": {},
   "outputs": [
    {
     "name": "stdout",
     "output_type": "stream",
     "text": [
      "<_sre.SRE_Match object; span=(0, 2), match='am'>\n",
      "None\n"
     ]
    }
   ],
   "source": [
    "#parenthesis\n",
    "a = re.search('(a)m', 'amm')\n",
    "print(a)\n",
    "b = re.search('(a)m', 'abm')\n",
    "print(b)"
   ]
  },
  {
   "cell_type": "code",
   "execution_count": 4,
   "id": "ac3477e9",
   "metadata": {},
   "outputs": [],
   "source": [
    "import re"
   ]
  },
  {
   "cell_type": "code",
   "execution_count": 5,
   "id": "bfa53251",
   "metadata": {},
   "outputs": [
    {
     "name": "stdout",
     "output_type": "stream",
     "text": [
      "<_sre.SRE_Match object; span=(0, 2), match='$a'>\n"
     ]
    }
   ],
   "source": [
    "#blackslash\n",
    "a = re.search('\\$a', '$abc')\n",
    "print(a)"
   ]
  },
  {
   "cell_type": "code",
   "execution_count": null,
   "id": "647fc07e",
   "metadata": {},
   "outputs": [],
   "source": []
  }
 ],
 "metadata": {
  "kernelspec": {
   "display_name": "Python 3",
   "language": "python",
   "name": "python3"
  },
  "language_info": {
   "codemirror_mode": {
    "name": "ipython",
    "version": 3
   },
   "file_extension": ".py",
   "mimetype": "text/x-python",
   "name": "python",
   "nbconvert_exporter": "python",
   "pygments_lexer": "ipython3",
   "version": "3.6.8"
  }
 },
 "nbformat": 4,
 "nbformat_minor": 5
}
