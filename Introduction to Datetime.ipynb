{
 "cells": [
  {
   "cell_type": "markdown",
   "id": "8f77eaf1",
   "metadata": {},
   "source": [
    "# Datetime module is used to work with dates as well as time."
   ]
  },
  {
   "cell_type": "markdown",
   "id": "c1553fa1",
   "metadata": {},
   "source": [
    "# Datetime module comes in built with python, so there is no need to install it."
   ]
  },
  {
   "cell_type": "markdown",
   "id": "58ab645d",
   "metadata": {},
   "source": [
    "# datetime() class requires three parameters: year,month and day"
   ]
  },
  {
   "cell_type": "code",
   "execution_count": null,
   "id": "ca362546",
   "metadata": {},
   "outputs": [],
   "source": [
    "#importing the datetime class\n",
    "import datetime"
   ]
  },
  {
   "cell_type": "code",
   "execution_count": null,
   "id": "86b7779e",
   "metadata": {},
   "outputs": [],
   "source": [
    "x = datetime.datetime(2012, 6, 12)"
   ]
  },
  {
   "cell_type": "code",
   "execution_count": 10,
   "id": "b9305015",
   "metadata": {},
   "outputs": [
    {
     "ename": "IndentationError",
     "evalue": "unexpected indent (<ipython-input-10-49d2b8708eab>, line 2)",
     "output_type": "error",
     "traceback": [
      "\u001b[1;36m  File \u001b[1;32m\"<ipython-input-10-49d2b8708eab>\"\u001b[1;36m, line \u001b[1;32m2\u001b[0m\n\u001b[1;33m    + datetime.timedelta(days=1)\u001b[0m\n\u001b[1;37m    ^\u001b[0m\n\u001b[1;31mIndentationError\u001b[0m\u001b[1;31m:\u001b[0m unexpected indent\n"
     ]
    }
   ],
   "source": [
    "x = datetime.datetime(2012, 6, 12)\n",
    "    + datetime.timedelta(days=1)"
   ]
  },
  {
   "cell_type": "code",
   "execution_count": 12,
   "id": "5129f4b4",
   "metadata": {},
   "outputs": [
    {
     "ename": "NameError",
     "evalue": "name 'datetime' is not defined",
     "output_type": "error",
     "traceback": [
      "\u001b[1;31m---------------------------------------------------------------------------\u001b[0m",
      "\u001b[1;31mNameError\u001b[0m                                 Traceback (most recent call last)",
      "\u001b[1;32m<ipython-input-12-c28842ef5ab5>\u001b[0m in \u001b[0;36m<module>\u001b[1;34m\u001b[0m\n\u001b[1;32m----> 1\u001b[1;33m \u001b[0mx\u001b[0m \u001b[1;33m=\u001b[0m \u001b[0mdatetime\u001b[0m\u001b[1;33m.\u001b[0m\u001b[0mdatetime\u001b[0m\u001b[1;33m(\u001b[0m\u001b[1;36m2012\u001b[0m\u001b[1;33m,\u001b[0m \u001b[1;36m6\u001b[0m\u001b[1;33m,\u001b[0m \u001b[1;36m12\u001b[0m\u001b[1;33m)\u001b[0m \u001b[1;33m+\u001b[0m \u001b[0mdatetime\u001b[0m\u001b[1;33m.\u001b[0m\u001b[0mtimedelta\u001b[0m\u001b[1;33m(\u001b[0m\u001b[0mdays\u001b[0m\u001b[1;33m=\u001b[0m\u001b[1;36m1\u001b[0m\u001b[1;33m)\u001b[0m\u001b[1;33m\u001b[0m\u001b[1;33m\u001b[0m\u001b[0m\n\u001b[0m\u001b[0;32m      2\u001b[0m x = (datetime.datetime(2012, 6, 12) +\n\u001b[0;32m      3\u001b[0m      datetime.timedelta(days=1))\n",
      "\u001b[1;31mNameError\u001b[0m: name 'datetime' is not defined"
     ]
    }
   ],
   "source": [
    "x = datetime.datetime(2012, 6, 12) + datetime.timedelta(days=1)\n",
    "x = (datetime.datetime(2012, 6, 12) +\n",
    "     datetime.timedelta(days=1))"
   ]
  },
  {
   "cell_type": "code",
   "execution_count": null,
   "id": "2cc03e2a",
   "metadata": {},
   "outputs": [],
   "source": []
  }
 ],
 "metadata": {
  "kernelspec": {
   "display_name": "Python 3",
   "language": "python",
   "name": "python3"
  },
  "language_info": {
   "codemirror_mode": {
    "name": "ipython",
    "version": 3
   },
   "file_extension": ".py",
   "mimetype": "text/x-python",
   "name": "python",
   "nbconvert_exporter": "python",
   "pygments_lexer": "ipython3",
   "version": "3.6.8"
  }
 },
 "nbformat": 4,
 "nbformat_minor": 5
}
