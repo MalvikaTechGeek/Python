{
 "cells": [
  {
   "cell_type": "code",
   "execution_count": 1,
   "id": "a6321b8f",
   "metadata": {},
   "outputs": [
    {
     "name": "stdout",
     "output_type": "stream",
     "text": [
      "Overlapping\n"
     ]
    }
   ],
   "source": [
    "def check_overlap(seq1, seq2):\n",
    "    for item in seq1:\n",
    "        if item not in seq2:\n",
    "            return False\n",
    "    return True\n",
    "\n",
    "def main():\n",
    "    list1 = [1, 2, 3, 4, 5]\n",
    "    list2 = [3, 4, 5]\n",
    "\n",
    "    if check_overlap(list2, list1):\n",
    "        print(\"Overlapping\")\n",
    "    else:\n",
    "        print(\"Not Overlapping\")\n",
    "\n",
    "if __name__ == \"__main__\":\n",
    "    main()\n"
   ]
  },
  {
   "cell_type": "code",
   "execution_count": 2,
   "id": "42f40466",
   "metadata": {},
   "outputs": [
    {
     "name": "stdout",
     "output_type": "stream",
     "text": [
      "Shopkeeper has candies for the total amount.\n"
     ]
    }
   ],
   "source": [
    "def check_candies_availability(candies_prices, total_amount):\n",
    "    for price in candies_prices:\n",
    "        if price == total_amount or price < total_amount:\n",
    "            return True\n",
    "    return False\n",
    "\n",
    "def main():\n",
    "    gandys_price_list = [8, 2, 3, 6, 1, 5]\n",
    "    total_amount_needed = 10  # Total amount Rahm and Raj have\n",
    "\n",
    "    if check_candies_availability(gandys_price_list, total_amount_needed):\n",
    "        print(\"Shopkeeper has candies for the total amount.\")\n",
    "    else:\n",
    "        print(\"Shopkeeper does not have candies for the total amount.\")\n",
    "\n",
    "if __name__ == \"__main__\":\n",
    "    main()\n"
   ]
  },
  {
   "cell_type": "code",
   "execution_count": 3,
   "id": "558a80a9",
   "metadata": {},
   "outputs": [
    {
     "name": "stdout",
     "output_type": "stream",
     "text": [
      "Guess the programming language: Python\n",
      "Sorry, your guess is incorrect.\n"
     ]
    }
   ],
   "source": [
    "def main():\n",
    "    # Define the correct answer\n",
    "    correct_answer = \"Python\"\n",
    "\n",
    "    # Get user input\n",
    "    user_input = input(\"Guess the programming language: \")\n",
    "\n",
    "    # Check if the user input is correct using the identity operator\n",
    "    if user_input is correct_answer:\n",
    "        print(\"Congratulations! You guessed it correctly.\")\n",
    "    else:\n",
    "        print(\"Sorry, your guess is incorrect.\")\n",
    "\n",
    "if __name__ == \"__main__\":\n",
    "    main()\n"
   ]
  },
  {
   "cell_type": "code",
   "execution_count": null,
   "id": "423d81a2",
   "metadata": {},
   "outputs": [],
   "source": []
  }
 ],
 "metadata": {
  "kernelspec": {
   "display_name": "Python 3",
   "language": "python",
   "name": "python3"
  },
  "language_info": {
   "codemirror_mode": {
    "name": "ipython",
    "version": 3
   },
   "file_extension": ".py",
   "mimetype": "text/x-python",
   "name": "python",
   "nbconvert_exporter": "python",
   "pygments_lexer": "ipython3",
   "version": "3.6.8"
  }
 },
 "nbformat": 4,
 "nbformat_minor": 5
}
