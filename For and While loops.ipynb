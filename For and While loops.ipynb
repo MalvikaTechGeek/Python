{
 "cells": [
  {
   "cell_type": "markdown",
   "id": "0262788d",
   "metadata": {},
   "source": [
    "# Loops are used to repeat a specific block of code as and when required."
   ]
  },
  {
   "cell_type": "markdown",
   "id": "40e23796",
   "metadata": {},
   "source": [
    "## Python provides two ways to execute loops.\n",
    "### 1. for loop\n",
    "### 2. while loop"
   ]
  },
  {
   "cell_type": "markdown",
   "id": "1641d1bc",
   "metadata": {},
   "source": [
    "# for loop\n",
    "## The for loop in Python is used to iterate over a sequence (list,tuple,string and dictionary)"
   ]
  },
  {
   "cell_type": "markdown",
   "id": "e68ebb3a",
   "metadata": {},
   "source": [
    "## Syntax\n",
    "\n",
    "### for i in sequence:\n",
    "           \n",
    "           Body of loop"
   ]
  },
  {
   "cell_type": "code",
   "execution_count": 1,
   "id": "708aaf5a",
   "metadata": {},
   "outputs": [
    {
     "name": "stdout",
     "output_type": "stream",
     "text": [
      "Delhi\n",
      "Mumbai\n",
      "Kolkata\n",
      "Bangalore\n",
      "Chennai\n"
     ]
    }
   ],
   "source": [
    "a=['Delhi','Mumbai','Kolkata','Bangalore','Chennai']\n",
    "#using for loop\n",
    "for city in a:\n",
    "    print(city)"
   ]
  },
  {
   "cell_type": "code",
   "execution_count": 8,
   "id": "a03794f3",
   "metadata": {},
   "outputs": [
    {
     "name": "stdout",
     "output_type": "stream",
     "text": [
      "5 not divisble by 2\n",
      "3 not divisble by 2\n"
     ]
    }
   ],
   "source": [
    "#defining a list\n",
    "s=[2,6,5,8,3] \n",
    "\n",
    "#using if statement inside for loop\n",
    "\n",
    "for i in s:\n",
    "    if(i%2!=0):\n",
    "        print (i,'not divisble by 2')"
   ]
  },
  {
   "cell_type": "markdown",
   "id": "306690c4",
   "metadata": {},
   "source": [
    "# While loop\n",
    "## The while loop in Python is used to iterate over a block of code as long as the test condition is true.\n",
    "\n",
    "### Syntax\n",
    "\n",
    "While test_condition:\n",
    "               \n",
    "               \n",
    "           Body of loop"
   ]
  },
  {
   "cell_type": "code",
   "execution_count": 9,
   "id": "860ca854",
   "metadata": {},
   "outputs": [
    {
     "name": "stdout",
     "output_type": "stream",
     "text": [
      "1\n",
      "2\n",
      "3\n",
      "4\n",
      "5\n"
     ]
    }
   ],
   "source": [
    "#using while loop\n",
    "i=1\n",
    "while i<=5:\n",
    "      print(i)\n",
    "      i=i+1"
   ]
  },
  {
   "cell_type": "code",
   "execution_count": 10,
   "id": "c8fb83fb",
   "metadata": {},
   "outputs": [
    {
     "name": "stdout",
     "output_type": "stream",
     "text": [
      "1\n",
      "2\n",
      "3\n",
      "4\n",
      "5\n",
      "i is no longer less than 6\n"
     ]
    }
   ],
   "source": [
    "#while loop with conditional statements\n",
    "i=1\n",
    "while i<=5:\n",
    "    print(i)\n",
    "    i=i+1\n",
    "else:\n",
    "    print(\"i is no longer less than 6\")"
   ]
  },
  {
   "cell_type": "markdown",
   "id": "e6df17cb",
   "metadata": {},
   "source": [
    "## Ninja Tip!!!"
   ]
  },
  {
   "cell_type": "code",
   "execution_count": 11,
   "id": "f0dc98a7",
   "metadata": {},
   "outputs": [],
   "source": [
    "for i in range(2,8):\n",
    "    pass"
   ]
  }
 ],
 "metadata": {
  "kernelspec": {
   "display_name": "Python 3",
   "language": "python",
   "name": "python3"
  },
  "language_info": {
   "codemirror_mode": {
    "name": "ipython",
    "version": 3
   },
   "file_extension": ".py",
   "mimetype": "text/x-python",
   "name": "python",
   "nbconvert_exporter": "python",
   "pygments_lexer": "ipython3",
   "version": "3.6.8"
  }
 },
 "nbformat": 4,
 "nbformat_minor": 5
}
